{
 "cells": [
  {
   "cell_type": "markdown",
   "id": "a65ab2e9",
   "metadata": {},
   "source": [
    "## 1. Preparation"
   ]
  },
  {
   "cell_type": "code",
   "execution_count": 1,
   "id": "e3590628",
   "metadata": {
    "scrolled": true
   },
   "outputs": [],
   "source": [
    "# Importing moduls\n",
    "import numpy as np\n",
    "import pandas as pd\n",
    "import matplotlib.pyplot as plt\n",
    "import seaborn as sns\n",
    "sns.set_style(\"whitegrid\")\n",
    "\n",
    "from sklearn.preprocessing import StandardScaler\n",
    "from sklearn.model_selection import cross_validate, GridSearchCV\n",
    "from sklearn.neighbors import KNeighborsClassifier\n",
    "from sklearn.linear_model import LogisticRegression\n",
    "from sklearn.tree import DecisionTreeClassifier\n",
    "from sklearn.ensemble import RandomForestClassifier\n",
    "from sklearn.svm import SVC\n",
    "from sklearn.neural_network import MLPClassifier\n",
    "from xgboost import XGBClassifier\n",
    "from sklearn.metrics import classification_report, accuracy_score, f1_score, confusion_matrix"
   ]
  },
  {
   "cell_type": "code",
   "execution_count": 2,
   "id": "9ecf55ca",
   "metadata": {},
   "outputs": [
    {
     "data": {
      "text/html": [
       "<div>\n",
       "<style scoped>\n",
       "    .dataframe tbody tr th:only-of-type {\n",
       "        vertical-align: middle;\n",
       "    }\n",
       "\n",
       "    .dataframe tbody tr th {\n",
       "        vertical-align: top;\n",
       "    }\n",
       "\n",
       "    .dataframe thead th {\n",
       "        text-align: right;\n",
       "    }\n",
       "</style>\n",
       "<table border=\"1\" class=\"dataframe\">\n",
       "  <thead>\n",
       "    <tr style=\"text-align: right;\">\n",
       "      <th></th>\n",
       "      <th>PassengerId</th>\n",
       "      <th>Survived</th>\n",
       "      <th>Pclass</th>\n",
       "      <th>Name</th>\n",
       "      <th>Sex</th>\n",
       "      <th>Age</th>\n",
       "      <th>SibSp</th>\n",
       "      <th>Parch</th>\n",
       "      <th>Ticket</th>\n",
       "      <th>Fare</th>\n",
       "      <th>Cabin</th>\n",
       "      <th>Embarked</th>\n",
       "    </tr>\n",
       "  </thead>\n",
       "  <tbody>\n",
       "    <tr>\n",
       "      <th>0</th>\n",
       "      <td>1</td>\n",
       "      <td>0</td>\n",
       "      <td>3</td>\n",
       "      <td>Braund, Mr. Owen Harris</td>\n",
       "      <td>male</td>\n",
       "      <td>22.0</td>\n",
       "      <td>1</td>\n",
       "      <td>0</td>\n",
       "      <td>A/5 21171</td>\n",
       "      <td>7.2500</td>\n",
       "      <td>NaN</td>\n",
       "      <td>S</td>\n",
       "    </tr>\n",
       "    <tr>\n",
       "      <th>1</th>\n",
       "      <td>2</td>\n",
       "      <td>1</td>\n",
       "      <td>1</td>\n",
       "      <td>Cumings, Mrs. John Bradley (Florence Briggs Th...</td>\n",
       "      <td>female</td>\n",
       "      <td>38.0</td>\n",
       "      <td>1</td>\n",
       "      <td>0</td>\n",
       "      <td>PC 17599</td>\n",
       "      <td>71.2833</td>\n",
       "      <td>C85</td>\n",
       "      <td>C</td>\n",
       "    </tr>\n",
       "    <tr>\n",
       "      <th>2</th>\n",
       "      <td>3</td>\n",
       "      <td>1</td>\n",
       "      <td>3</td>\n",
       "      <td>Heikkinen, Miss. Laina</td>\n",
       "      <td>female</td>\n",
       "      <td>26.0</td>\n",
       "      <td>0</td>\n",
       "      <td>0</td>\n",
       "      <td>STON/O2. 3101282</td>\n",
       "      <td>7.9250</td>\n",
       "      <td>NaN</td>\n",
       "      <td>S</td>\n",
       "    </tr>\n",
       "    <tr>\n",
       "      <th>3</th>\n",
       "      <td>4</td>\n",
       "      <td>1</td>\n",
       "      <td>1</td>\n",
       "      <td>Futrelle, Mrs. Jacques Heath (Lily May Peel)</td>\n",
       "      <td>female</td>\n",
       "      <td>35.0</td>\n",
       "      <td>1</td>\n",
       "      <td>0</td>\n",
       "      <td>113803</td>\n",
       "      <td>53.1000</td>\n",
       "      <td>C123</td>\n",
       "      <td>S</td>\n",
       "    </tr>\n",
       "    <tr>\n",
       "      <th>4</th>\n",
       "      <td>5</td>\n",
       "      <td>0</td>\n",
       "      <td>3</td>\n",
       "      <td>Allen, Mr. William Henry</td>\n",
       "      <td>male</td>\n",
       "      <td>35.0</td>\n",
       "      <td>0</td>\n",
       "      <td>0</td>\n",
       "      <td>373450</td>\n",
       "      <td>8.0500</td>\n",
       "      <td>NaN</td>\n",
       "      <td>S</td>\n",
       "    </tr>\n",
       "  </tbody>\n",
       "</table>\n",
       "</div>"
      ],
      "text/plain": [
       "   PassengerId  Survived  Pclass  \\\n",
       "0            1         0       3   \n",
       "1            2         1       1   \n",
       "2            3         1       3   \n",
       "3            4         1       1   \n",
       "4            5         0       3   \n",
       "\n",
       "                                                Name     Sex   Age  SibSp  \\\n",
       "0                            Braund, Mr. Owen Harris    male  22.0      1   \n",
       "1  Cumings, Mrs. John Bradley (Florence Briggs Th...  female  38.0      1   \n",
       "2                             Heikkinen, Miss. Laina  female  26.0      0   \n",
       "3       Futrelle, Mrs. Jacques Heath (Lily May Peel)  female  35.0      1   \n",
       "4                           Allen, Mr. William Henry    male  35.0      0   \n",
       "\n",
       "   Parch            Ticket     Fare Cabin Embarked  \n",
       "0      0         A/5 21171   7.2500   NaN        S  \n",
       "1      0          PC 17599  71.2833   C85        C  \n",
       "2      0  STON/O2. 3101282   7.9250   NaN        S  \n",
       "3      0            113803  53.1000  C123        S  \n",
       "4      0            373450   8.0500   NaN        S  "
      ]
     },
     "metadata": {},
     "output_type": "display_data"
    },
    {
     "data": {
      "text/html": [
       "<div>\n",
       "<style scoped>\n",
       "    .dataframe tbody tr th:only-of-type {\n",
       "        vertical-align: middle;\n",
       "    }\n",
       "\n",
       "    .dataframe tbody tr th {\n",
       "        vertical-align: top;\n",
       "    }\n",
       "\n",
       "    .dataframe thead th {\n",
       "        text-align: right;\n",
       "    }\n",
       "</style>\n",
       "<table border=\"1\" class=\"dataframe\">\n",
       "  <thead>\n",
       "    <tr style=\"text-align: right;\">\n",
       "      <th></th>\n",
       "      <th>PassengerId</th>\n",
       "      <th>Pclass</th>\n",
       "      <th>Name</th>\n",
       "      <th>Sex</th>\n",
       "      <th>Age</th>\n",
       "      <th>SibSp</th>\n",
       "      <th>Parch</th>\n",
       "      <th>Ticket</th>\n",
       "      <th>Fare</th>\n",
       "      <th>Cabin</th>\n",
       "      <th>Embarked</th>\n",
       "    </tr>\n",
       "  </thead>\n",
       "  <tbody>\n",
       "    <tr>\n",
       "      <th>0</th>\n",
       "      <td>892</td>\n",
       "      <td>3</td>\n",
       "      <td>Kelly, Mr. James</td>\n",
       "      <td>male</td>\n",
       "      <td>34.5</td>\n",
       "      <td>0</td>\n",
       "      <td>0</td>\n",
       "      <td>330911</td>\n",
       "      <td>7.8292</td>\n",
       "      <td>NaN</td>\n",
       "      <td>Q</td>\n",
       "    </tr>\n",
       "    <tr>\n",
       "      <th>1</th>\n",
       "      <td>893</td>\n",
       "      <td>3</td>\n",
       "      <td>Wilkes, Mrs. James (Ellen Needs)</td>\n",
       "      <td>female</td>\n",
       "      <td>47.0</td>\n",
       "      <td>1</td>\n",
       "      <td>0</td>\n",
       "      <td>363272</td>\n",
       "      <td>7.0000</td>\n",
       "      <td>NaN</td>\n",
       "      <td>S</td>\n",
       "    </tr>\n",
       "    <tr>\n",
       "      <th>2</th>\n",
       "      <td>894</td>\n",
       "      <td>2</td>\n",
       "      <td>Myles, Mr. Thomas Francis</td>\n",
       "      <td>male</td>\n",
       "      <td>62.0</td>\n",
       "      <td>0</td>\n",
       "      <td>0</td>\n",
       "      <td>240276</td>\n",
       "      <td>9.6875</td>\n",
       "      <td>NaN</td>\n",
       "      <td>Q</td>\n",
       "    </tr>\n",
       "    <tr>\n",
       "      <th>3</th>\n",
       "      <td>895</td>\n",
       "      <td>3</td>\n",
       "      <td>Wirz, Mr. Albert</td>\n",
       "      <td>male</td>\n",
       "      <td>27.0</td>\n",
       "      <td>0</td>\n",
       "      <td>0</td>\n",
       "      <td>315154</td>\n",
       "      <td>8.6625</td>\n",
       "      <td>NaN</td>\n",
       "      <td>S</td>\n",
       "    </tr>\n",
       "    <tr>\n",
       "      <th>4</th>\n",
       "      <td>896</td>\n",
       "      <td>3</td>\n",
       "      <td>Hirvonen, Mrs. Alexander (Helga E Lindqvist)</td>\n",
       "      <td>female</td>\n",
       "      <td>22.0</td>\n",
       "      <td>1</td>\n",
       "      <td>1</td>\n",
       "      <td>3101298</td>\n",
       "      <td>12.2875</td>\n",
       "      <td>NaN</td>\n",
       "      <td>S</td>\n",
       "    </tr>\n",
       "  </tbody>\n",
       "</table>\n",
       "</div>"
      ],
      "text/plain": [
       "   PassengerId  Pclass                                          Name     Sex  \\\n",
       "0          892       3                              Kelly, Mr. James    male   \n",
       "1          893       3              Wilkes, Mrs. James (Ellen Needs)  female   \n",
       "2          894       2                     Myles, Mr. Thomas Francis    male   \n",
       "3          895       3                              Wirz, Mr. Albert    male   \n",
       "4          896       3  Hirvonen, Mrs. Alexander (Helga E Lindqvist)  female   \n",
       "\n",
       "    Age  SibSp  Parch   Ticket     Fare Cabin Embarked  \n",
       "0  34.5      0      0   330911   7.8292   NaN        Q  \n",
       "1  47.0      1      0   363272   7.0000   NaN        S  \n",
       "2  62.0      0      0   240276   9.6875   NaN        Q  \n",
       "3  27.0      0      0   315154   8.6625   NaN        S  \n",
       "4  22.0      1      1  3101298  12.2875   NaN        S  "
      ]
     },
     "metadata": {},
     "output_type": "display_data"
    }
   ],
   "source": [
    "# Reading our dataset\n",
    "df_train = pd.read_csv('train.csv')\n",
    "df_test = pd.read_csv('test.csv')\n",
    "display(df_train.head())\n",
    "display(df_test.head())"
   ]
  },
  {
   "cell_type": "code",
   "execution_count": 3,
   "id": "5b630736",
   "metadata": {},
   "outputs": [
    {
     "data": {
      "text/html": [
       "<style type=\"text/css\">\n",
       "#T_9fcb4_row0_col0, #T_9fcb4_row0_col1, #T_9fcb4_row1_col0, #T_9fcb4_row2_col0, #T_9fcb4_row2_col1, #T_9fcb4_row3_col0, #T_9fcb4_row3_col1, #T_9fcb4_row4_col0, #T_9fcb4_row4_col1, #T_9fcb4_row6_col0, #T_9fcb4_row6_col1, #T_9fcb4_row7_col0, #T_9fcb4_row7_col1, #T_9fcb4_row8_col0, #T_9fcb4_row8_col1, #T_9fcb4_row9_col0, #T_9fcb4_row9_col1, #T_9fcb4_row11_col0, #T_9fcb4_row11_col1 {\n",
       "  background-color: #ffff66;\n",
       "  color: #000000;\n",
       "}\n",
       "#T_9fcb4_row1_col1 {\n",
       "  background-color: #000000;\n",
       "  color: #f1f1f1;\n",
       "}\n",
       "#T_9fcb4_row5_col0 {\n",
       "  background-color: #bede66;\n",
       "  color: #000000;\n",
       "}\n",
       "#T_9fcb4_row5_col1 {\n",
       "  background-color: #bcde66;\n",
       "  color: #000000;\n",
       "}\n",
       "#T_9fcb4_row10_col0, #T_9fcb4_row10_col1 {\n",
       "  background-color: #008066;\n",
       "  color: #f1f1f1;\n",
       "}\n",
       "</style>\n",
       "<table id=\"T_9fcb4_\">\n",
       "  <thead>\n",
       "    <tr>\n",
       "      <th class=\"blank level0\" >&nbsp;</th>\n",
       "      <th class=\"col_heading level0 col0\" >Train Null (%)</th>\n",
       "      <th class=\"col_heading level0 col1\" >Test Null (%)</th>\n",
       "    </tr>\n",
       "  </thead>\n",
       "  <tbody>\n",
       "    <tr>\n",
       "      <th id=\"T_9fcb4_level0_row0\" class=\"row_heading level0 row0\" >PassengerId</th>\n",
       "      <td id=\"T_9fcb4_row0_col0\" class=\"data row0 col0\" >0.000000</td>\n",
       "      <td id=\"T_9fcb4_row0_col1\" class=\"data row0 col1\" >0.000000</td>\n",
       "    </tr>\n",
       "    <tr>\n",
       "      <th id=\"T_9fcb4_level0_row1\" class=\"row_heading level0 row1\" >Survived</th>\n",
       "      <td id=\"T_9fcb4_row1_col0\" class=\"data row1 col0\" >0.000000</td>\n",
       "      <td id=\"T_9fcb4_row1_col1\" class=\"data row1 col1\" >nan</td>\n",
       "    </tr>\n",
       "    <tr>\n",
       "      <th id=\"T_9fcb4_level0_row2\" class=\"row_heading level0 row2\" >Pclass</th>\n",
       "      <td id=\"T_9fcb4_row2_col0\" class=\"data row2 col0\" >0.000000</td>\n",
       "      <td id=\"T_9fcb4_row2_col1\" class=\"data row2 col1\" >0.000000</td>\n",
       "    </tr>\n",
       "    <tr>\n",
       "      <th id=\"T_9fcb4_level0_row3\" class=\"row_heading level0 row3\" >Name</th>\n",
       "      <td id=\"T_9fcb4_row3_col0\" class=\"data row3 col0\" >0.000000</td>\n",
       "      <td id=\"T_9fcb4_row3_col1\" class=\"data row3 col1\" >0.000000</td>\n",
       "    </tr>\n",
       "    <tr>\n",
       "      <th id=\"T_9fcb4_level0_row4\" class=\"row_heading level0 row4\" >Sex</th>\n",
       "      <td id=\"T_9fcb4_row4_col0\" class=\"data row4 col0\" >0.000000</td>\n",
       "      <td id=\"T_9fcb4_row4_col1\" class=\"data row4 col1\" >0.000000</td>\n",
       "    </tr>\n",
       "    <tr>\n",
       "      <th id=\"T_9fcb4_level0_row5\" class=\"row_heading level0 row5\" >Age</th>\n",
       "      <td id=\"T_9fcb4_row5_col0\" class=\"data row5 col0\" >19.865320</td>\n",
       "      <td id=\"T_9fcb4_row5_col1\" class=\"data row5 col1\" >20.574163</td>\n",
       "    </tr>\n",
       "    <tr>\n",
       "      <th id=\"T_9fcb4_level0_row6\" class=\"row_heading level0 row6\" >SibSp</th>\n",
       "      <td id=\"T_9fcb4_row6_col0\" class=\"data row6 col0\" >0.000000</td>\n",
       "      <td id=\"T_9fcb4_row6_col1\" class=\"data row6 col1\" >0.000000</td>\n",
       "    </tr>\n",
       "    <tr>\n",
       "      <th id=\"T_9fcb4_level0_row7\" class=\"row_heading level0 row7\" >Parch</th>\n",
       "      <td id=\"T_9fcb4_row7_col0\" class=\"data row7 col0\" >0.000000</td>\n",
       "      <td id=\"T_9fcb4_row7_col1\" class=\"data row7 col1\" >0.000000</td>\n",
       "    </tr>\n",
       "    <tr>\n",
       "      <th id=\"T_9fcb4_level0_row8\" class=\"row_heading level0 row8\" >Ticket</th>\n",
       "      <td id=\"T_9fcb4_row8_col0\" class=\"data row8 col0\" >0.000000</td>\n",
       "      <td id=\"T_9fcb4_row8_col1\" class=\"data row8 col1\" >0.000000</td>\n",
       "    </tr>\n",
       "    <tr>\n",
       "      <th id=\"T_9fcb4_level0_row9\" class=\"row_heading level0 row9\" >Fare</th>\n",
       "      <td id=\"T_9fcb4_row9_col0\" class=\"data row9 col0\" >0.000000</td>\n",
       "      <td id=\"T_9fcb4_row9_col1\" class=\"data row9 col1\" >0.239234</td>\n",
       "    </tr>\n",
       "    <tr>\n",
       "      <th id=\"T_9fcb4_level0_row10\" class=\"row_heading level0 row10\" >Cabin</th>\n",
       "      <td id=\"T_9fcb4_row10_col0\" class=\"data row10 col0\" >77.104377</td>\n",
       "      <td id=\"T_9fcb4_row10_col1\" class=\"data row10 col1\" >78.229665</td>\n",
       "    </tr>\n",
       "    <tr>\n",
       "      <th id=\"T_9fcb4_level0_row11\" class=\"row_heading level0 row11\" >Embarked</th>\n",
       "      <td id=\"T_9fcb4_row11_col0\" class=\"data row11 col0\" >0.224467</td>\n",
       "      <td id=\"T_9fcb4_row11_col1\" class=\"data row11 col1\" >0.000000</td>\n",
       "    </tr>\n",
       "  </tbody>\n",
       "</table>\n"
      ],
      "text/plain": [
       "<pandas.io.formats.style.Styler at 0x7fd4eb6c4550>"
      ]
     },
     "execution_count": 3,
     "metadata": {},
     "output_type": "execute_result"
    }
   ],
   "source": [
    "# We check the data for gaps\n",
    "pd.DataFrame(data = [df_train.isna().sum()/df_train.shape[0]*100, \n",
    "                     df_test.isna().sum()/df_test.shape[0]*100], \n",
    "             index=[\"Train Null (%)\", \"Test Null (%)\"]).T.style.background_gradient(cmap='summer_r')"
   ]
  },
  {
   "cell_type": "markdown",
   "id": "a0f51d0a",
   "metadata": {},
   "source": [
    "We can see that Age and Cabin variable has quite a lot of null values in both train and test data. Embarked variable in train data has 2 null values, and Fare variable in test data has 1 null value. We will need to analyze this data first to decide whether to drop this column or do some imputation."
   ]
  },
  {
   "cell_type": "code",
   "execution_count": 4,
   "id": "4deb471c",
   "metadata": {},
   "outputs": [
    {
     "name": "stdout",
     "output_type": "stream",
     "text": [
      "<class 'pandas.core.frame.DataFrame'>\n",
      "RangeIndex: 891 entries, 0 to 890\n",
      "Data columns (total 12 columns):\n",
      " #   Column       Non-Null Count  Dtype  \n",
      "---  ------       --------------  -----  \n",
      " 0   PassengerId  891 non-null    int64  \n",
      " 1   Survived     891 non-null    int64  \n",
      " 2   Pclass       891 non-null    int64  \n",
      " 3   Name         891 non-null    object \n",
      " 4   Sex          891 non-null    object \n",
      " 5   Age          714 non-null    float64\n",
      " 6   SibSp        891 non-null    int64  \n",
      " 7   Parch        891 non-null    int64  \n",
      " 8   Ticket       891 non-null    object \n",
      " 9   Fare         891 non-null    float64\n",
      " 10  Cabin        204 non-null    object \n",
      " 11  Embarked     889 non-null    object \n",
      "dtypes: float64(2), int64(5), object(5)\n",
      "memory usage: 83.7+ KB\n"
     ]
    }
   ],
   "source": [
    "df_train.info()"
   ]
  },
  {
   "cell_type": "markdown",
   "id": "9798971b",
   "metadata": {},
   "source": [
    "We have 12 variables, and each variable has 891 records. The types of variables in this dataset are as follows:\n",
    "Numerical:\n",
    "-Discrete:\n",
    "+SibSp\n",
    "+Parch\n",
    "-Continous:\n",
    "+Age\n",
    "+Fare\n",
    "\n",
    "Categorical:\n",
    "-Nominal:\n",
    "+Sex\n",
    "+Embarked\n",
    "+Survived (Target Variable)\n",
    "-Ordinal:\n",
    "+Pclass\n",
    "\n",
    "Others:\n",
    "-Text\n",
    "+Ticket\n",
    "+Name\n",
    "-ID:\n",
    "+PassengerId\n"
   ]
  },
  {
   "cell_type": "markdown",
   "id": "2527513c",
   "metadata": {},
   "source": [
    "## 2. Exploratory Data Analysis\n",
    "Let's group our variable types and make two functions to visualize our numerical and categorical data first."
   ]
  },
  {
   "cell_type": "code",
   "execution_count": 5,
   "id": "575605ea",
   "metadata": {},
   "outputs": [],
   "source": [
    "num_var = [\"SibSp\", \"Parch\", \"Age\", \"Fare\"]\n",
    "cat_var = [\"Sex\", \"Embarked\", \"Pclass\"]\n",
    "target = \"Survived\""
   ]
  },
  {
   "cell_type": "code",
   "execution_count": 6,
   "id": "9f196ebd",
   "metadata": {},
   "outputs": [],
   "source": [
    "def num_dist(data, var):\n",
    "    fig, ax = plt.subplots(1, 2, figsize=(12, 4))\n",
    "\n",
    "    sns.histplot(data=data, x=var, kde=True, ax=ax[0])\n",
    "    sns.boxplot(data=data, x=var, ax=ax[1])\n",
    "    ax[0].set_title(f\"{var} Distribution Histogram\")\n",
    "    ax[1].set_title(f\"{var} Distribution Boxplot\")\n",
    "\n",
    "    plt.show()\n",
    "    \n",
    "def cat_dist(data, var):\n",
    "    fig, ax = plt.subplots(1, 2, figsize=(12, 4))\n",
    "\n",
    "    df_train[var].value_counts().plot(kind=\"pie\", explode=[0.05 for x in data[var].dropna().unique()], autopct='%1.1f%%', ax=ax[0], shadow=True)\n",
    "    ax[0].set_title(f\"{var} Pie Chart\")\n",
    "    ax[0].set_ylabel('')\n",
    "\n",
    "    count = sns.countplot(x=var, data=df_train, ax=ax[1])\n",
    "    for bar in count.patches:\n",
    "        count.annotate(format(bar.get_height()),\n",
    "            (bar.get_x() + bar.get_width() / 2,\n",
    "            bar.get_height()), ha='center', va='center',\n",
    "            size=11, xytext=(0, 8),\n",
    "            textcoords='offset points')\n",
    "    ax[1].set_title(f\"{var} Bar Chart\")\n",
    "    plt.show()"
   ]
  },
  {
   "cell_type": "markdown",
   "id": "a4815d84",
   "metadata": {},
   "source": [
    "### Checking Predictor Distribution"
   ]
  },
  {
   "cell_type": "code",
   "execution_count": 7,
   "id": "8d1a22c9",
   "metadata": {},
   "outputs": [
    {
     "data": {
      "image/png": "[encoded data removed]",
      "text/plain": [
       "<Figure size 1440x576 with 8 Axes>"
      ]
     },
     "metadata": {},
     "output_type": "display_data"
    }
   ],
   "source": [
    "fig, ax = plt.subplots(2, 4, figsize=(20, 8))\n",
    "ax = ax.flatten()\n",
    "\n",
    "for i, var in enumerate(num_var+cat_var):\n",
    "    if i < 4:\n",
    "        sns.histplot(data=df_train, x=var, hue=target, kde=True, ax=ax[i])\n",
    "    else:\n",
    "        sns.countplot(data=df_train, x=var, hue=target, ax=ax[i])\n",
    "    \n",
    "    ax[i].set_title(f\"{var}: Survived vs Not Survived\")\n",
    "    \n",
    "plt.subplots_adjust(hspace=0.5)\n",
    "plt.show()"
   ]
  },
  {
   "cell_type": "markdown",
   "id": "460a4114",
   "metadata": {},
   "source": [
    "Apparently, passengers who travel with small numbers of family have a greater survival chance. Also, large number of children (Age <= 10) survived in this tragedy, while passengers with the age above them tend not to survive. We can also see the number of female who survived was much more than male (women and children first code). Passengers embarked from port C seem to be luckier as many of them survived. Pclass also plays quite a role here because most of the passengers from Pclass 1 managed to survive or have more priority to be saved, while passengers with Pclass 3 tend not to survive."
   ]
  },
  {
   "cell_type": "code",
   "execution_count": 8,
   "id": "fc5cbd50",
   "metadata": {},
   "outputs": [
    {
     "data": {
      "image/png": "[encoded data removed]",
      "text/plain": [
       "<Figure size 432x288 with 1 Axes>"
      ]
     },
     "metadata": {},
     "output_type": "display_data"
    }
   ],
   "source": [
    "sns.violinplot(data=df_train, x=\"Sex\", y=\"Age\", hue=\"Survived\", split=True)\n",
    "plt.show()"
   ]
  },
  {
   "cell_type": "markdown",
   "id": "f504b9d6",
   "metadata": {},
   "source": [
    "Children survival rate for both gender seems to be good, even though the survival rate for boys is higher. For old people (Age > 60), the survival rate for old men tends to be lower, in contrast to the survival rate for old women which tends to be higher."
   ]
  },
  {
   "cell_type": "code",
   "execution_count": 9,
   "id": "9e08df8e",
   "metadata": {},
   "outputs": [
    {
     "data": {
      "image/png": "[encoded data removed]",
      "text/plain": [
       "<Figure size 864x288 with 2 Axes>"
      ]
     },
     "metadata": {},
     "output_type": "display_data"
    }
   ],
   "source": [
    "fig, ax = plt.subplots(1, 2, figsize=(12, 4))\n",
    "\n",
    "for i, var in enumerate([\"SibSp\", \"Parch\"]):\n",
    "    surv = sns.barplot(data=df_train, x=var, y=target, ax=ax[i], ci=None)\n",
    "    for bar in surv.patches:\n",
    "        surv.annotate(format(\"{:.3f}\".format(bar.get_height())),\n",
    "            (bar.get_x() + bar.get_width() / 2,\n",
    "            bar.get_height()), ha='center', va='center',\n",
    "            size=11, xytext=(0, 8),\n",
    "            textcoords='offset points')\n",
    "        \n",
    "    ax[i].set_title(f\"{var} Survival Rate\")"
   ]
  },
  {
   "cell_type": "markdown",
   "id": "2fcedf7b",
   "metadata": {},
   "source": [
    "The graph above shows that passengers with small numbers of family tend to survive. Meanwhile, there are only ~34% of the lone passengers (SibSpb and Parch = 0) who survived. Unfortunately, 0% passengers with SibSp > 4 survived, and almost no passengers with Parch > 3 survived."
   ]
  },
  {
   "cell_type": "code",
   "execution_count": 10,
   "id": "89bdc5ab",
   "metadata": {},
   "outputs": [
    {
     "data": {
      "image/png": "[encoded data removed]",
      "text/plain": [
       "<Figure size 1440x432 with 3 Axes>"
      ]
     },
     "metadata": {},
     "output_type": "display_data"
    }
   ],
   "source": [
    "fig, ax = plt.subplots(1, 3, figsize=(20, 6))\n",
    "\n",
    "for i, pc in enumerate(sorted(df_train[\"Pclass\"].unique())):\n",
    "    sns.histplot(data=df_train[df_train[\"Pclass\"]==pc], x=\"Fare\", hue=target, kde=True, ax=ax[i])\n",
    "    ax[i].set_title(f\"Fare in Pclass {pc} Survival Rate\")"
   ]
  },
  {
   "cell_type": "markdown",
   "id": "a3d5e5c9",
   "metadata": {},
   "source": [
    "Passengers with higher fares are more likely to survive these accidents, although some of those with the highest fares on the Pclass 2 didn't survive. Even though most of the passengers who didn't survive were those with Pclass 3, but Pclass 1 and 2 also did not guarantee passenger safety, especially for those with less fares."
   ]
  },
  {
   "cell_type": "markdown",
   "id": "92b688b6",
   "metadata": {},
   "source": [
    "## 3. Feature Engineering"
   ]
  },
  {
   "cell_type": "code",
   "execution_count": 11,
   "id": "ba218891",
   "metadata": {},
   "outputs": [],
   "source": [
    "df_train.drop(\"PassengerId\", axis=1, inplace=True)\n",
    "df_test.drop(\"PassengerId\", axis=1, inplace=True)"
   ]
  },
  {
   "cell_type": "code",
   "execution_count": 12,
   "id": "0570dd35",
   "metadata": {},
   "outputs": [
    {
     "data": {
      "text/plain": [
       "0                                Braund, Mr. Owen Harris\n",
       "1      Cumings, Mrs. John Bradley (Florence Briggs Th...\n",
       "2                                 Heikkinen, Miss. Laina\n",
       "3           Futrelle, Mrs. Jacques Heath (Lily May Peel)\n",
       "4                               Allen, Mr. William Henry\n",
       "                             ...                        \n",
       "886                                Montvila, Rev. Juozas\n",
       "887                         Graham, Miss. Margaret Edith\n",
       "888             Johnston, Miss. Catherine Helen \"Carrie\"\n",
       "889                                Behr, Mr. Karl Howell\n",
       "890                                  Dooley, Mr. Patrick\n",
       "Name: Name, Length: 891, dtype: object"
      ]
     },
     "execution_count": 12,
     "metadata": {},
     "output_type": "execute_result"
    }
   ],
   "source": [
    "df_train[\"Name\"]"
   ]
  },
  {
   "cell_type": "markdown",
   "id": "adb7982b",
   "metadata": {},
   "source": [
    "As we can see, there is a pattern in the names of the passengers that we can extract, which is their title (Mr, Mrs, Miss, etc.). Let's extract the string value followed by dot (.)."
   ]
  },
  {
   "cell_type": "code",
   "execution_count": 13,
   "id": "044bd089",
   "metadata": {
    "scrolled": true
   },
   "outputs": [
    {
     "data": {
      "text/plain": [
       "Mr          517\n",
       "Miss        182\n",
       "Mrs         125\n",
       "Master       40\n",
       "Dr            7\n",
       "Rev           6\n",
       "Mlle          2\n",
       "Major         2\n",
       "Col           2\n",
       "Countess      1\n",
       "Capt          1\n",
       "Ms            1\n",
       "Sir           1\n",
       "Lady          1\n",
       "Mme           1\n",
       "Don           1\n",
       "Jonkheer      1\n",
       "Name: Title, dtype: int64"
      ]
     },
     "execution_count": 13,
     "metadata": {},
     "output_type": "execute_result"
    }
   ],
   "source": [
    "df_train[\"Title\"] = df_train[\"Name\"].str.extract('([A-Za-z]+)\\.')\n",
    "df_test[\"Title\"] = df_test[\"Name\"].str.extract('([A-Za-z]+)\\.')\n",
    "\n",
    "df_train[\"Title\"].value_counts()"
   ]
  },
  {
   "cell_type": "markdown",
   "id": "d3b412b5",
   "metadata": {},
   "source": [
    "Some initials are owned by very few people, and some initials have the same meaning as others. We will group them according to the proper group.\n",
    "\n"
   ]
  },
  {
   "cell_type": "code",
   "execution_count": 14,
   "id": "f90c7f18",
   "metadata": {
    "scrolled": true
   },
   "outputs": [
    {
     "data": {
      "text/plain": [
       "Mr        517\n",
       "Miss      183\n",
       "Mrs       126\n",
       "Master     40\n",
       "Other      25\n",
       "Name: Title, dtype: int64"
      ]
     },
     "execution_count": 14,
     "metadata": {},
     "output_type": "execute_result"
    }
   ],
   "source": [
    "def convert_title(title):\n",
    "    if title in [\"Ms\", \"Mile\", \"Miss\"]:\n",
    "        return \"Miss\"\n",
    "    elif title in [\"Mme\", \"Mrs\"]:\n",
    "        return \"Mrs\"\n",
    "    elif title == \"Mr\":\n",
    "        return \"Mr\"\n",
    "    elif title == \"Master\":\n",
    "        return \"Master\"\n",
    "    else:\n",
    "        return \"Other\"\n",
    "        \n",
    "df_train[\"Title\"] = df_train[\"Title\"].map(convert_title)\n",
    "df_test[\"Title\"] = df_test[\"Title\"].map(convert_title)\n",
    "\n",
    "df_train[\"Title\"].value_counts()"
   ]
  },
  {
   "cell_type": "markdown",
   "id": "42c3a26e",
   "metadata": {},
   "source": [
    "We've got the initials of each passenger, so now the variable name is no longer needed. We can remove this variable now.\n",
    "\n"
   ]
  },
  {
   "cell_type": "code",
   "execution_count": 15,
   "id": "2b428722",
   "metadata": {},
   "outputs": [],
   "source": [
    "df_train.drop(\"Name\", axis=1, inplace=True)\n",
    "df_test.drop(\"Name\", axis=1, inplace=True)"
   ]
  },
  {
   "cell_type": "code",
   "execution_count": 16,
   "id": "bc7a833f",
   "metadata": {
    "scrolled": true
   },
   "outputs": [
    {
     "data": {
      "text/plain": [
       "0             A/5 21171\n",
       "1              PC 17599\n",
       "2      STON/O2. 3101282\n",
       "3                113803\n",
       "4                373450\n",
       "             ...       \n",
       "886              211536\n",
       "887              112053\n",
       "888          W./C. 6607\n",
       "889              111369\n",
       "890              370376\n",
       "Name: Ticket, Length: 891, dtype: object"
      ]
     },
     "execution_count": 16,
     "metadata": {},
     "output_type": "execute_result"
    }
   ],
   "source": [
    "df_train[\"Ticket\"]"
   ]
  },
  {
   "cell_type": "markdown",
   "id": "6f0fe454",
   "metadata": {},
   "source": [
    "This variable also only contains the unique ticket value for each passenger, and there is no pattern that we can extract. So, we'll just remove this variable.\n",
    "\n"
   ]
  },
  {
   "cell_type": "code",
   "execution_count": 17,
   "id": "68fe0bed",
   "metadata": {},
   "outputs": [],
   "source": [
    "df_train.drop(\"Ticket\", axis=1, inplace=True)\n",
    "df_test.drop(\"Ticket\", axis=1, inplace=True)"
   ]
  },
  {
   "cell_type": "markdown",
   "id": "16202a20",
   "metadata": {},
   "source": [
    "Next variable has too many missing values in both train and test data (more than 77%), so this variable is missing a lot of information. We will also remove this variable.\n",
    "\n"
   ]
  },
  {
   "cell_type": "code",
   "execution_count": 18,
   "id": "5e8fdfd6",
   "metadata": {},
   "outputs": [],
   "source": [
    "df_train.drop(\"Cabin\", axis=1, inplace=True)\n",
    "df_test.drop(\"Cabin\", axis=1, inplace=True)"
   ]
  },
  {
   "cell_type": "markdown",
   "id": "3a440df5",
   "metadata": {},
   "source": [
    "The age variable has a missing value of 19.87% in the training data and 20.57% in the test data. That number is not really much, so we will try to do data imputation on this variable. So, how are we going to do that?\n",
    "\n",
    "Usually, we can just fill missing values using mean or median values. But the problem is, this dataset contains many passengers with many different ages. We just cant assign a 4 year kid or 60 years old man with the mean age that is 29 years. First, let's check the correlation between age variable with other variables.\n",
    "\n"
   ]
  },
  {
   "cell_type": "code",
   "execution_count": 19,
   "id": "0799c0ce",
   "metadata": {},
   "outputs": [
    {
     "data": {
      "text/plain": [
       "Age         1.000000\n",
       "Fare        0.096067\n",
       "Survived   -0.077221\n",
       "Parch      -0.189119\n",
       "SibSp      -0.308247\n",
       "Pclass     -0.369226\n",
       "Name: Age, dtype: float64"
      ]
     },
     "execution_count": 19,
     "metadata": {},
     "output_type": "execute_result"
    }
   ],
   "source": [
    "df_train.corr()[\"Age\"].sort_values(ascending=False)\n"
   ]
  },
  {
   "cell_type": "markdown",
   "id": "901a06b4",
   "metadata": {},
   "source": [
    "Their correlation doesn't look so good. Now let's try to check a categorical variable that might be able to classify the age of the passengers, which is Title variable.\n",
    "\n"
   ]
  },
  {
   "cell_type": "code",
   "execution_count": 20,
   "id": "364628e9",
   "metadata": {},
   "outputs": [
    {
     "data": {
      "image/png": "[encoded data removed]",
      "text/plain": [
       "<Figure size 432x288 with 1 Axes>"
      ]
     },
     "metadata": {},
     "output_type": "display_data"
    }
   ],
   "source": [
    "sns.violinplot(data=df_train, x=\"Title\", y=\"Age\")\n",
    "plt.show()"
   ]
  },
  {
   "cell_type": "markdown",
   "id": "ca8d3864",
   "metadata": {},
   "source": [
    "That looks pretty good. We can use Title variable to classify the age of the passengers. Let's check passenger's average age based on their title.\n",
    "\n"
   ]
  },
  {
   "cell_type": "code",
   "execution_count": 21,
   "id": "e4a09cf7",
   "metadata": {},
   "outputs": [
    {
     "data": {
      "text/plain": [
       "Title\n",
       "Master     4.574167\n",
       "Miss      21.816327\n",
       "Mr        32.368090\n",
       "Mrs       35.788991\n",
       "Other     43.750000\n",
       "Name: Age, dtype: float64"
      ]
     },
     "execution_count": 21,
     "metadata": {},
     "output_type": "execute_result"
    }
   ],
   "source": [
    "df_train.groupby('Title')['Age'].mean()\n"
   ]
  },
  {
   "cell_type": "markdown",
   "id": "5a1aae33",
   "metadata": {},
   "source": [
    "Fill in the missing age value using the average passenger age for each title."
   ]
  },
  {
   "cell_type": "code",
   "execution_count": 22,
   "id": "536f082f",
   "metadata": {},
   "outputs": [],
   "source": [
    "data = [df_train, df_test]\n",
    "for df in data:\n",
    "    df.loc[(df[\"Age\"].isnull()) & (df[\"Title\"]=='Master'), 'Age'] = 5\n",
    "    df.loc[(df[\"Age\"].isnull()) & (df[\"Title\"]=='Miss'), 'Age'] = 22\n",
    "    df.loc[(df[\"Age\"].isnull()) & (df[\"Title\"]=='Mr'), 'Age'] = 32\n",
    "    df.loc[(df[\"Age\"].isnull()) & (df[\"Title\"]=='Mrs'), 'Age'] = 36\n",
    "    df.loc[(df[\"Age\"].isnull()) & (df[\"Title\"]=='Other'), 'Age'] = 44"
   ]
  },
  {
   "cell_type": "markdown",
   "id": "a689c592",
   "metadata": {},
   "source": [
    "We know that Fare variable in test data has missing value, so we will try to impute that variable value based on train data. Let's check the correlation Fare variable with other variables.\n",
    "\n"
   ]
  },
  {
   "cell_type": "code",
   "execution_count": 23,
   "id": "af2caf3d",
   "metadata": {},
   "outputs": [
    {
     "data": {
      "text/plain": [
       "Fare        1.000000\n",
       "Survived    0.257307\n",
       "Parch       0.216225\n",
       "SibSp       0.159651\n",
       "Age         0.092122\n",
       "Pclass     -0.549500\n",
       "Name: Fare, dtype: float64"
      ]
     },
     "execution_count": 23,
     "metadata": {},
     "output_type": "execute_result"
    }
   ],
   "source": [
    "df_train.corr()[\"Fare\"].sort_values(ascending=False)\n"
   ]
  },
  {
   "cell_type": "markdown",
   "id": "44ab4677",
   "metadata": {},
   "source": [
    "As we can see, Pclass variable has a relatively strong negative correlation with Fare variable. So, we will use the mean value of Fare based on the Pclass variable to fill in the missing values.\n",
    "\n"
   ]
  },
  {
   "cell_type": "code",
   "execution_count": 24,
   "id": "65edbd96",
   "metadata": {},
   "outputs": [
    {
     "data": {
      "text/html": [
       "<div>\n",
       "<style scoped>\n",
       "    .dataframe tbody tr th:only-of-type {\n",
       "        vertical-align: middle;\n",
       "    }\n",
       "\n",
       "    .dataframe tbody tr th {\n",
       "        vertical-align: top;\n",
       "    }\n",
       "\n",
       "    .dataframe thead th {\n",
       "        text-align: right;\n",
       "    }\n",
       "</style>\n",
       "<table border=\"1\" class=\"dataframe\">\n",
       "  <thead>\n",
       "    <tr style=\"text-align: right;\">\n",
       "      <th></th>\n",
       "      <th>Pclass</th>\n",
       "      <th>Sex</th>\n",
       "      <th>Age</th>\n",
       "      <th>SibSp</th>\n",
       "      <th>Parch</th>\n",
       "      <th>Fare</th>\n",
       "      <th>Embarked</th>\n",
       "      <th>Title</th>\n",
       "    </tr>\n",
       "  </thead>\n",
       "  <tbody>\n",
       "    <tr>\n",
       "      <th>152</th>\n",
       "      <td>3</td>\n",
       "      <td>male</td>\n",
       "      <td>60.5</td>\n",
       "      <td>0</td>\n",
       "      <td>0</td>\n",
       "      <td>NaN</td>\n",
       "      <td>S</td>\n",
       "      <td>Mr</td>\n",
       "    </tr>\n",
       "  </tbody>\n",
       "</table>\n",
       "</div>"
      ],
      "text/plain": [
       "     Pclass   Sex   Age  SibSp  Parch  Fare Embarked Title\n",
       "152       3  male  60.5      0      0   NaN        S    Mr"
      ]
     },
     "execution_count": 24,
     "metadata": {},
     "output_type": "execute_result"
    }
   ],
   "source": [
    "df_test[df_test[\"Fare\"].isna()]\n"
   ]
  },
  {
   "cell_type": "markdown",
   "id": "a0dfbf90",
   "metadata": {},
   "source": [
    "Passenger with missing fare has Pclass = 3.\n",
    "\n"
   ]
  },
  {
   "cell_type": "code",
   "execution_count": 25,
   "id": "d675b3b7",
   "metadata": {},
   "outputs": [],
   "source": [
    "df_test.Fare.fillna(df_train.groupby(\"Pclass\").mean()[\"Fare\"][3], inplace=True)"
   ]
  },
  {
   "cell_type": "markdown",
   "id": "3efa8e98",
   "metadata": {},
   "source": [
    "We can create a new variable that shows the number of families accompanying their trip by adding up the values of the SibSp and Parch variables. And then from these variables, we can also create a variable that indicates whether the passenger is alone or not.\n",
    "\n"
   ]
  },
  {
   "cell_type": "code",
   "execution_count": 26,
   "id": "19b0d3ad",
   "metadata": {},
   "outputs": [],
   "source": [
    "data = [df_train, df_test]\n",
    "for df in data:\n",
    "    df['Relatives'] = df['SibSp'] + df['Parch']\n",
    "    df.loc[df['Relatives'] > 0, 'Alone'] = 1\n",
    "    df.loc[df['Relatives'] == 0, 'Alone'] = 0"
   ]
  },
  {
   "cell_type": "markdown",
   "id": "1e63df15",
   "metadata": {},
   "source": [
    "We can remove SIbSp and Parch variables since we don't need them anymore.\n",
    "\n"
   ]
  },
  {
   "cell_type": "code",
   "execution_count": 27,
   "id": "07d878b6",
   "metadata": {},
   "outputs": [],
   "source": [
    "df_train.drop([\"SibSp\", \"Parch\"], axis=1, inplace=True)\n",
    "df_test.drop([\"SibSp\", \"Parch\"], axis=1, inplace=True)"
   ]
  },
  {
   "cell_type": "markdown",
   "id": "553d717b",
   "metadata": {},
   "source": [
    "Some variables like Sex, Embarked, and Title are categorical, so we need to encode them first so that it can be used into machine learning models."
   ]
  },
  {
   "cell_type": "code",
   "execution_count": 28,
   "id": "c0333f50",
   "metadata": {},
   "outputs": [],
   "source": [
    "df_train = pd.get_dummies(df_train, prefix=[\"Sex\", \"Embarked\", \"Title\"])\n",
    "df_test = pd.get_dummies(df_test, prefix=[\"Sex\", \"Embarked\", \"Title\"])"
   ]
  },
  {
   "cell_type": "markdown",
   "id": "401e0e54",
   "metadata": {},
   "source": [
    "## 4. Model Building"
   ]
  },
  {
   "cell_type": "code",
   "execution_count": 29,
   "id": "1d6b5921",
   "metadata": {},
   "outputs": [],
   "source": [
    "# Splitting Dataset\n",
    "X_train = df_train.drop(\"Survived\", axis=1)\n",
    "y_train = df_train.Survived\n",
    "\n",
    "X_test = df_test.copy()"
   ]
  },
  {
   "cell_type": "code",
   "execution_count": 30,
   "id": "5b91aa84",
   "metadata": {},
   "outputs": [],
   "source": [
    "# Feature Scaling\n",
    "scaler = StandardScaler()\n",
    "\n",
    "X_train_scaled = scaler.fit_transform(X_train)\n",
    "X_test_scaled = scaler.transform(X_test)"
   ]
  },
  {
   "cell_type": "code",
   "execution_count": 31,
   "id": "c86a8205",
   "metadata": {},
   "outputs": [
    {
     "data": {
      "text/html": [
       "<div>\n",
       "<style scoped>\n",
       "    .dataframe tbody tr th:only-of-type {\n",
       "        vertical-align: middle;\n",
       "    }\n",
       "\n",
       "    .dataframe tbody tr th {\n",
       "        vertical-align: top;\n",
       "    }\n",
       "\n",
       "    .dataframe thead th {\n",
       "        text-align: right;\n",
       "    }\n",
       "</style>\n",
       "<table border=\"1\" class=\"dataframe\">\n",
       "  <thead>\n",
       "    <tr style=\"text-align: right;\">\n",
       "      <th></th>\n",
       "      <th>Classifier</th>\n",
       "      <th>Avg_Accuracy</th>\n",
       "      <th>Avg_F1_Score</th>\n",
       "      <th>Avg_Overall</th>\n",
       "    </tr>\n",
       "  </thead>\n",
       "  <tbody>\n",
       "    <tr>\n",
       "      <th>1</th>\n",
       "      <td>LR</td>\n",
       "      <td>0.830537</td>\n",
       "      <td>0.769458</td>\n",
       "      <td>0.799997</td>\n",
       "    </tr>\n",
       "    <tr>\n",
       "      <th>5</th>\n",
       "      <td>MLP</td>\n",
       "      <td>0.826092</td>\n",
       "      <td>0.753199</td>\n",
       "      <td>0.789646</td>\n",
       "    </tr>\n",
       "    <tr>\n",
       "      <th>4</th>\n",
       "      <td>SVM</td>\n",
       "      <td>0.822697</td>\n",
       "      <td>0.747500</td>\n",
       "      <td>0.785098</td>\n",
       "    </tr>\n",
       "    <tr>\n",
       "      <th>0</th>\n",
       "      <td>KNN</td>\n",
       "      <td>0.819388</td>\n",
       "      <td>0.745880</td>\n",
       "      <td>0.782634</td>\n",
       "    </tr>\n",
       "    <tr>\n",
       "      <th>6</th>\n",
       "      <td>XGB</td>\n",
       "      <td>0.810375</td>\n",
       "      <td>0.745315</td>\n",
       "      <td>0.777845</td>\n",
       "    </tr>\n",
       "    <tr>\n",
       "      <th>3</th>\n",
       "      <td>RF</td>\n",
       "      <td>0.809238</td>\n",
       "      <td>0.743213</td>\n",
       "      <td>0.776226</td>\n",
       "    </tr>\n",
       "    <tr>\n",
       "      <th>2</th>\n",
       "      <td>DT</td>\n",
       "      <td>0.785668</td>\n",
       "      <td>0.717482</td>\n",
       "      <td>0.751575</td>\n",
       "    </tr>\n",
       "  </tbody>\n",
       "</table>\n",
       "</div>"
      ],
      "text/plain": [
       "  Classifier  Avg_Accuracy  Avg_F1_Score  Avg_Overall\n",
       "1         LR      0.830537      0.769458     0.799997\n",
       "5        MLP      0.826092      0.753199     0.789646\n",
       "4        SVM      0.822697      0.747500     0.785098\n",
       "0        KNN      0.819388      0.745880     0.782634\n",
       "6        XGB      0.810375      0.745315     0.777845\n",
       "3         RF      0.809238      0.743213     0.776226\n",
       "2         DT      0.785668      0.717482     0.751575"
      ]
     },
     "execution_count": 31,
     "metadata": {},
     "output_type": "execute_result"
    }
   ],
   "source": [
    "# Choosing Best Algorithm\n",
    "classifiers = {\n",
    "    \"KNN\": KNeighborsClassifier(), \n",
    "    \"LR\": LogisticRegression(max_iter=1000), \n",
    "    \"DT\": DecisionTreeClassifier(),\n",
    "    \"RF\": RandomForestClassifier(),\n",
    "    \"SVM\": SVC(),\n",
    "    \"MLP\": MLPClassifier(max_iter=1000),\n",
    "    \"XGB\": XGBClassifier()\n",
    "}\n",
    "\n",
    "results = pd.DataFrame(columns=[\"Classifier\", \"Avg_Accuracy\", \"Avg_F1_Score\"])\n",
    "for name, clf in classifiers.items():\n",
    "    model = clf\n",
    "    cv_results = cross_validate(\n",
    "        model, X_train_scaled, y_train, cv=10,\n",
    "        scoring=(['accuracy', 'f1'])\n",
    "    )\n",
    "\n",
    "    results = results.append({\n",
    "        \"Classifier\": name,\n",
    "        \"Avg_Accuracy\": cv_results['test_accuracy'].mean(),\n",
    "        \"Avg_F1_Score\": cv_results['test_f1'].mean()\n",
    "    }, ignore_index=True)\n",
    "    \n",
    "results[\"Avg_Overall\"] = (results[\"Avg_Accuracy\"] + results[\"Avg_F1_Score\"]) / 2\n",
    "results = results.sort_values(\"Avg_Overall\", ascending=False)\n",
    "results"
   ]
  },
  {
   "cell_type": "code",
   "execution_count": 32,
   "id": "97a71567",
   "metadata": {},
   "outputs": [
    {
     "data": {
      "image/png": "[encoded data removed]",
      "text/plain": [
       "<Figure size 864x432 with 1 Axes>"
      ]
     },
     "metadata": {},
     "output_type": "display_data"
    }
   ],
   "source": [
    "plt.figure(figsize=(12, 6))\n",
    "sns.barplot(data=results, x=\"Avg_Overall\", y=\"Classifier\")\n",
    "plt.title(\"Average Overall CV Score\")\n",
    "plt.show()"
   ]
  },
  {
   "cell_type": "markdown",
   "id": "fe1363ff",
   "metadata": {},
   "source": [
    "Looks like Logistic Regression is our best model here. We will use this algorithm to predict the test data. But before that, we will adjust the hyperparameters on this algorithm using Grid Search Cross Validation.\n",
    "\n"
   ]
  },
  {
   "cell_type": "code",
   "execution_count": 33,
   "id": "9fd44099",
   "metadata": {},
   "outputs": [
    {
     "name": "stdout",
     "output_type": "stream",
     "text": [
      "Best hyperparameter: {'C': 1.0, 'penalty': 'l2', 'tol': 0.1}\n"
     ]
    },
    {
     "name": "stderr",
     "output_type": "stream",
     "text": [
      "/Users/andrusyakmd/opt/anaconda3/lib/python3.9/site-packages/sklearn/model_selection/_validation.py:378: FitFailedWarning: \n",
      "320 fits failed out of a total of 480.\n",
      "The score on these train-test partitions for these parameters will be set to nan.\n",
      "If these failures are not expected, you can try to debug them by setting error_score='raise'.\n",
      "\n",
      "Below are more details about the failures:\n",
      "--------------------------------------------------------------------------------\n",
      "160 fits failed with the following error:\n",
      "Traceback (most recent call last):\n",
      "  File \"/Users/andrusyakmd/opt/anaconda3/lib/python3.9/site-packages/sklearn/model_selection/_validation.py\", line 686, in _fit_and_score\n",
      "    estimator.fit(X_train, y_train, **fit_params)\n",
      "  File \"/Users/andrusyakmd/opt/anaconda3/lib/python3.9/site-packages/sklearn/linear_model/_logistic.py\", line 1091, in fit\n",
      "    solver = _check_solver(self.solver, self.penalty, self.dual)\n",
      "  File \"/Users/andrusyakmd/opt/anaconda3/lib/python3.9/site-packages/sklearn/linear_model/_logistic.py\", line 61, in _check_solver\n",
      "    raise ValueError(\n",
      "ValueError: Solver lbfgs supports only 'l2' or 'none' penalties, got l1 penalty.\n",
      "\n",
      "--------------------------------------------------------------------------------\n",
      "160 fits failed with the following error:\n",
      "Traceback (most recent call last):\n",
      "  File \"/Users/andrusyakmd/opt/anaconda3/lib/python3.9/site-packages/sklearn/model_selection/_validation.py\", line 686, in _fit_and_score\n",
      "    estimator.fit(X_train, y_train, **fit_params)\n",
      "  File \"/Users/andrusyakmd/opt/anaconda3/lib/python3.9/site-packages/sklearn/linear_model/_logistic.py\", line 1091, in fit\n",
      "    solver = _check_solver(self.solver, self.penalty, self.dual)\n",
      "  File \"/Users/andrusyakmd/opt/anaconda3/lib/python3.9/site-packages/sklearn/linear_model/_logistic.py\", line 61, in _check_solver\n",
      "    raise ValueError(\n",
      "ValueError: Solver lbfgs supports only 'l2' or 'none' penalties, got elasticnet penalty.\n",
      "\n",
      "  warnings.warn(some_fits_failed_message, FitFailedWarning)\n",
      "/Users/andrusyakmd/opt/anaconda3/lib/python3.9/site-packages/sklearn/model_selection/_search.py:953: UserWarning: One or more of the test scores are non-finite: [       nan        nan        nan        nan 0.82941323 0.82941323\n",
      " 0.82941323 0.82941323        nan        nan        nan        nan\n",
      "        nan        nan        nan        nan 0.83053683 0.83053683\n",
      " 0.83053683 0.83053683        nan        nan        nan        nan\n",
      "        nan        nan        nan        nan 0.82830212 0.82830212\n",
      " 0.82830212 0.82830212        nan        nan        nan        nan\n",
      "        nan        nan        nan        nan 0.82042447 0.82042447\n",
      " 0.82042447 0.82042447        nan        nan        nan        nan]\n",
      "  warnings.warn(\n"
     ]
    }
   ],
   "source": [
    "# Hyperparameter Tuning\n",
    "lr = LogisticRegression()\n",
    "params = {\n",
    "    \"penalty\": (\"l1\", \"l2\", \"elasticnet\"),\n",
    "    \"tol\": (0.1, 0.01, 0.001, 0.0001),\n",
    "    \"C\": (10.0, 1.0, 0.1, 0.01)\n",
    "}\n",
    "clf = GridSearchCV(lr, params, cv=10)\n",
    "clf.fit(X_train_scaled, y_train)\n",
    "print(\"Best hyperparameter:\", clf.best_params_)"
   ]
  },
  {
   "cell_type": "code",
   "execution_count": 34,
   "id": "bdcba367",
   "metadata": {},
   "outputs": [
    {
     "name": "stdout",
     "output_type": "stream",
     "text": [
      "Train Accuracy: 0.8338945005611672\n",
      "Train F1-Score: 0.7771084337349397\n"
     ]
    },
    {
     "data": {
      "image/png": "[encoded data removed]",
      "text/plain": [
       "<Figure size 432x288 with 2 Axes>"
      ]
     },
     "metadata": {},
     "output_type": "display_data"
    }
   ],
   "source": [
    "y_pred = clf.predict(X_train_scaled)\n",
    "print(f\"Train Accuracy: {accuracy_score(y_train, y_pred)}\")\n",
    "print(f\"Train F1-Score: {f1_score(y_train, y_pred)}\")\n",
    "sns.heatmap(confusion_matrix(y_train, y_pred), fmt='.3g', annot=True, cmap='summer_r')\n",
    "plt.show()"
   ]
  },
  {
   "cell_type": "code",
   "execution_count": 35,
   "id": "53618f64",
   "metadata": {},
   "outputs": [
    {
     "name": "stdout",
     "output_type": "stream",
     "text": [
      "              precision    recall  f1-score   support\n",
      "\n",
      "           0       0.85      0.88      0.87       549\n",
      "           1       0.80      0.75      0.78       342\n",
      "\n",
      "    accuracy                           0.83       891\n",
      "   macro avg       0.83      0.82      0.82       891\n",
      "weighted avg       0.83      0.83      0.83       891\n",
      "\n"
     ]
    }
   ],
   "source": [
    "print(classification_report(y_train, y_pred))\n"
   ]
  },
  {
   "cell_type": "code",
   "execution_count": 36,
   "id": "7a67524c",
   "metadata": {},
   "outputs": [
    {
     "name": "stdout",
     "output_type": "stream",
     "text": [
      "1.0\n"
     ]
    }
   ],
   "source": [
    "y_pred = clf.predict(X_test_scaled)\n",
    "\n",
    "submission = pd.read_csv(\"gender_submission.csv\")\n",
    "submission[\"Survived\"] = y_pred\n",
    "print(accuracy_score(submission[\"Survived\"], y_pred))"
   ]
  },
  {
   "cell_type": "code",
   "execution_count": 37,
   "id": "977338e3",
   "metadata": {},
   "outputs": [],
   "source": [
    "submission.to_csv('submission.csv', index=False)"
   ]
  },
  {
   "cell_type": "code",
   "execution_count": null,
   "id": "3a19a427",
   "metadata": {},
   "outputs": [],
   "source": []
  }
 ],
 "metadata": {
  "kernelspec": {
   "display_name": "Python 3 (ipykernel)",
   "language": "python",
   "name": "python3"
  },
  "language_info": {
   "codemirror_mode": {
    "name": "ipython",
    "version": 3
   },
   "file_extension": ".py",
   "mimetype": "text/x-python",
   "name": "python",
   "nbconvert_exporter": "python",
   "pygments_lexer": "ipython3",
   "version": "3.9.7"
  }
 },
 "nbformat": 4,
 "nbformat_minor": 5
}
